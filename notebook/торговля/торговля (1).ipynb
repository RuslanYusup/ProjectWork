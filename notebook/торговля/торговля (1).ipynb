{
 "cells": [
  {
   "cell_type": "code",
   "execution_count": 1,
   "id": "c0b023e0",
   "metadata": {},
   "outputs": [],
   "source": [
    "import pandas as pd\n",
    "import numpy as np\n",
    "import seaborn as sns\n",
    "import matplotlib.pyplot as plt\n",
    "from sklearn.model_selection import train_test_split\n",
    "\n",
    "# загружаем модели\n",
    "from sklearn.linear_model import LinearRegression\n",
    "\n",
    "# pipeline\n",
    "from sklearn.preprocessing import OneHotEncoder\n",
    "from sklearn.preprocessing import MinMaxScaler\n",
    "from sklearn.compose import ColumnTransformer\n",
    "\n",
    "# метрики\n",
    "from sklearn.metrics import mean_squared_error\n",
    "from sklearn.metrics import r2_score\n",
    "from sklearn.model_selection import cross_val_score\n",
    "from sklearn.metrics import precision_score\n",
    "from sklearn.metrics import f1_score\n",
    "from sklearn.metrics import plot_confusion_matrix\n",
    "\n",
    "# ошибки\n",
    "import warnings\n",
    "warnings.filterwarnings('ignore') # для начала стоит оставить ворнинги вклченными\n",
    "pd.options.display.float_format = '{:.2f}'.format"
   ]
  },
  {
   "cell_type": "code",
   "execution_count": 2,
   "id": "3730d068",
   "metadata": {},
   "outputs": [
    {
     "data": {
      "text/html": [
       "<div>\n",
       "<style scoped>\n",
       "    .dataframe tbody tr th:only-of-type {\n",
       "        vertical-align: middle;\n",
       "    }\n",
       "\n",
       "    .dataframe tbody tr th {\n",
       "        vertical-align: top;\n",
       "    }\n",
       "\n",
       "    .dataframe thead th {\n",
       "        text-align: right;\n",
       "    }\n",
       "</style>\n",
       "<table border=\"1\" class=\"dataframe\">\n",
       "  <thead>\n",
       "    <tr style=\"text-align: right;\">\n",
       "      <th></th>\n",
       "      <th>код</th>\n",
       "      <th>страна экспорта/импорта</th>\n",
       "      <th>дата</th>\n",
       "      <th>направление</th>\n",
       "      <th>общая стоимость</th>\n",
       "      <th>вес в кг</th>\n",
       "      <th>Дэи</th>\n",
       "      <th>федеральный округ</th>\n",
       "      <th>место отгрузки</th>\n",
       "    </tr>\n",
       "  </thead>\n",
       "  <tbody>\n",
       "    <tr>\n",
       "      <th>0</th>\n",
       "      <td>2905110000 - МЕТАНОЛ (СПИРТ МЕТИЛОВЫЙ)</td>\n",
       "      <td>FI - ФИНЛЯНДИЯ</td>\n",
       "      <td>12 2019</td>\n",
       "      <td>Экспорт</td>\n",
       "      <td>8697030.96</td>\n",
       "      <td>46476510.00</td>\n",
       "      <td>0.00</td>\n",
       "      <td>04-ПРИВОЛЖСКИЙ ФЕДЕРАЛЬНЫЙ ОКРУГ</td>\n",
       "      <td>57000 - ПЕРМСКИЙ КРАЙ</td>\n",
       "    </tr>\n",
       "    <tr>\n",
       "      <th>1</th>\n",
       "      <td>2905110000 - МЕТАНОЛ (СПИРТ МЕТИЛОВЫЙ)</td>\n",
       "      <td>FI - ФИНЛЯНДИЯ</td>\n",
       "      <td>12 2019</td>\n",
       "      <td>Экспорт</td>\n",
       "      <td>115771.02</td>\n",
       "      <td>499800.00</td>\n",
       "      <td>0.00</td>\n",
       "      <td>01-ЦЕНТРАЛЬНЫЙ ФЕДЕРАЛЬНЫЙ ОКРУГ</td>\n",
       "      <td>70000 - ТУЛЬСКАЯ ОБЛАСТЬ</td>\n",
       "    </tr>\n",
       "    <tr>\n",
       "      <th>2</th>\n",
       "      <td>2905110000 - МЕТАНОЛ (СПИРТ МЕТИЛОВЫЙ)</td>\n",
       "      <td>KG - КЫРГЫЗСТАН</td>\n",
       "      <td>08 2019</td>\n",
       "      <td>Экспорт</td>\n",
       "      <td>5934.20</td>\n",
       "      <td>17400.00</td>\n",
       "      <td>0.00</td>\n",
       "      <td>04-ПРИВОЛЖСКИЙ ФЕДЕРАЛЬНЫЙ ОКРУГ</td>\n",
       "      <td>22000 - НИЖЕГОРОДСКАЯ ОБЛАСТЬ</td>\n",
       "    </tr>\n",
       "    <tr>\n",
       "      <th>3</th>\n",
       "      <td>2905110000 - МЕТАНОЛ (СПИРТ МЕТИЛОВЫЙ)</td>\n",
       "      <td>KG - КЫРГЫЗСТАН</td>\n",
       "      <td>12 2019</td>\n",
       "      <td>Экспорт</td>\n",
       "      <td>7463.76</td>\n",
       "      <td>9055.00</td>\n",
       "      <td>0.00</td>\n",
       "      <td>04-ПРИВОЛЖСКИЙ ФЕДЕРАЛЬНЫЙ ОКРУГ</td>\n",
       "      <td>80000 - РЕСПУБЛИКА БАШКОРТОСТАН</td>\n",
       "    </tr>\n",
       "    <tr>\n",
       "      <th>4</th>\n",
       "      <td>2905110000 - МЕТАНОЛ (СПИРТ МЕТИЛОВЫЙ)</td>\n",
       "      <td>KZ - КАЗАХСТАН</td>\n",
       "      <td>01 2019</td>\n",
       "      <td>Экспорт</td>\n",
       "      <td>192077.78</td>\n",
       "      <td>472260.00</td>\n",
       "      <td>0.00</td>\n",
       "      <td>04-ПРИВОЛЖСКИЙ ФЕДЕРАЛЬНЫЙ ОКРУГ</td>\n",
       "      <td>36000 - САМАРСКАЯ ОБЛАСТЬ</td>\n",
       "    </tr>\n",
       "    <tr>\n",
       "      <th>...</th>\n",
       "      <td>...</td>\n",
       "      <td>...</td>\n",
       "      <td>...</td>\n",
       "      <td>...</td>\n",
       "      <td>...</td>\n",
       "      <td>...</td>\n",
       "      <td>...</td>\n",
       "      <td>...</td>\n",
       "      <td>...</td>\n",
       "    </tr>\n",
       "    <tr>\n",
       "      <th>997</th>\n",
       "      <td>2905110000 - МЕТАНОЛ (СПИРТ МЕТИЛОВЫЙ)</td>\n",
       "      <td>MD - МОЛДОВА, РЕСПУБЛИКА</td>\n",
       "      <td>01 2022</td>\n",
       "      <td>Экспорт</td>\n",
       "      <td>11088.48</td>\n",
       "      <td>21580.00</td>\n",
       "      <td>0.00</td>\n",
       "      <td>01-ЦЕНТРАЛЬНЫЙ ФЕДЕРАЛЬНЫЙ ОКРУГ</td>\n",
       "      <td>70000 - ТУЛЬСКАЯ ОБЛАСТЬ</td>\n",
       "    </tr>\n",
       "    <tr>\n",
       "      <th>998</th>\n",
       "      <td>2905110000 - МЕТАНОЛ (СПИРТ МЕТИЛОВЫЙ)</td>\n",
       "      <td>BY - БЕЛАРУСЬ</td>\n",
       "      <td>01 2022</td>\n",
       "      <td>Экспорт</td>\n",
       "      <td>763.13</td>\n",
       "      <td>310000.00</td>\n",
       "      <td>0.00</td>\n",
       "      <td>02-СЕВЕРО-ЗАПАДНЫЙ ФЕДЕРАЛЬНЫЙ ОКРУГ</td>\n",
       "      <td>49000 - НОВГОРОДСКАЯ ОБЛАСТЬ</td>\n",
       "    </tr>\n",
       "    <tr>\n",
       "      <th>999</th>\n",
       "      <td>2905110000 - МЕТАНОЛ (СПИРТ МЕТИЛОВЫЙ)</td>\n",
       "      <td>FI - ФИНЛЯНДИЯ</td>\n",
       "      <td>01 2022</td>\n",
       "      <td>Экспорт</td>\n",
       "      <td>8888381.00</td>\n",
       "      <td>24347900.00</td>\n",
       "      <td>0.00</td>\n",
       "      <td>01-ЦЕНТРАЛЬНЫЙ ФЕДЕРАЛЬНЫЙ ОКРУГ</td>\n",
       "      <td>70000 - ТУЛЬСКАЯ ОБЛАСТЬ</td>\n",
       "    </tr>\n",
       "    <tr>\n",
       "      <th>1000</th>\n",
       "      <td>2905110000 - МЕТАНОЛ (СПИРТ МЕТИЛОВЫЙ)</td>\n",
       "      <td>EE - ЭСТОНИЯ</td>\n",
       "      <td>01 2022</td>\n",
       "      <td>Экспорт</td>\n",
       "      <td>202532.89</td>\n",
       "      <td>520000.00</td>\n",
       "      <td>0.00</td>\n",
       "      <td>01-ЦЕНТРАЛЬНЫЙ ФЕДЕРАЛЬНЫЙ ОКРУГ</td>\n",
       "      <td>70000 - ТУЛЬСКАЯ ОБЛАСТЬ</td>\n",
       "    </tr>\n",
       "    <tr>\n",
       "      <th>1001</th>\n",
       "      <td>2905110000 - МЕТАНОЛ (СПИРТ МЕТИЛОВЫЙ)</td>\n",
       "      <td>CZ - ЧЕХИЯ</td>\n",
       "      <td>01 2022</td>\n",
       "      <td>Экспорт</td>\n",
       "      <td>624.43</td>\n",
       "      <td>960.00</td>\n",
       "      <td>0.00</td>\n",
       "      <td>01-ЦЕНТРАЛЬНЫЙ ФЕДЕРАЛЬНЫЙ ОКРУГ</td>\n",
       "      <td>24000 - ИВАНОВСКАЯ ОБЛАСТЬ</td>\n",
       "    </tr>\n",
       "  </tbody>\n",
       "</table>\n",
       "<p>1002 rows × 9 columns</p>\n",
       "</div>"
      ],
      "text/plain": [
       "                                         код   страна экспорта/импорта  \\\n",
       "0     2905110000 - МЕТАНОЛ (СПИРТ МЕТИЛОВЫЙ)            FI - ФИНЛЯНДИЯ   \n",
       "1     2905110000 - МЕТАНОЛ (СПИРТ МЕТИЛОВЫЙ)            FI - ФИНЛЯНДИЯ   \n",
       "2     2905110000 - МЕТАНОЛ (СПИРТ МЕТИЛОВЫЙ)           KG - КЫРГЫЗСТАН   \n",
       "3     2905110000 - МЕТАНОЛ (СПИРТ МЕТИЛОВЫЙ)           KG - КЫРГЫЗСТАН   \n",
       "4     2905110000 - МЕТАНОЛ (СПИРТ МЕТИЛОВЫЙ)            KZ - КАЗАХСТАН   \n",
       "...                                      ...                       ...   \n",
       "997   2905110000 - МЕТАНОЛ (СПИРТ МЕТИЛОВЫЙ)  MD - МОЛДОВА, РЕСПУБЛИКА   \n",
       "998   2905110000 - МЕТАНОЛ (СПИРТ МЕТИЛОВЫЙ)             BY - БЕЛАРУСЬ   \n",
       "999   2905110000 - МЕТАНОЛ (СПИРТ МЕТИЛОВЫЙ)            FI - ФИНЛЯНДИЯ   \n",
       "1000  2905110000 - МЕТАНОЛ (СПИРТ МЕТИЛОВЫЙ)              EE - ЭСТОНИЯ   \n",
       "1001  2905110000 - МЕТАНОЛ (СПИРТ МЕТИЛОВЫЙ)                CZ - ЧЕХИЯ   \n",
       "\n",
       "         дата направление  общая стоимость    вес в кг  Дэи  \\\n",
       "0     12 2019     Экспорт       8697030.96 46476510.00 0.00   \n",
       "1     12 2019     Экспорт        115771.02   499800.00 0.00   \n",
       "2     08 2019     Экспорт          5934.20    17400.00 0.00   \n",
       "3     12 2019     Экспорт          7463.76     9055.00 0.00   \n",
       "4     01 2019     Экспорт        192077.78   472260.00 0.00   \n",
       "...       ...         ...              ...         ...  ...   \n",
       "997   01 2022     Экспорт         11088.48    21580.00 0.00   \n",
       "998   01 2022     Экспорт           763.13   310000.00 0.00   \n",
       "999   01 2022     Экспорт       8888381.00 24347900.00 0.00   \n",
       "1000  01 2022     Экспорт        202532.89   520000.00 0.00   \n",
       "1001  01 2022     Экспорт           624.43      960.00 0.00   \n",
       "\n",
       "                         федеральный округ                   место отгрузки  \n",
       "0         04-ПРИВОЛЖСКИЙ ФЕДЕРАЛЬНЫЙ ОКРУГ            57000 - ПЕРМСКИЙ КРАЙ  \n",
       "1         01-ЦЕНТРАЛЬНЫЙ ФЕДЕРАЛЬНЫЙ ОКРУГ         70000 - ТУЛЬСКАЯ ОБЛАСТЬ  \n",
       "2         04-ПРИВОЛЖСКИЙ ФЕДЕРАЛЬНЫЙ ОКРУГ    22000 - НИЖЕГОРОДСКАЯ ОБЛАСТЬ  \n",
       "3         04-ПРИВОЛЖСКИЙ ФЕДЕРАЛЬНЫЙ ОКРУГ  80000 - РЕСПУБЛИКА БАШКОРТОСТАН  \n",
       "4         04-ПРИВОЛЖСКИЙ ФЕДЕРАЛЬНЫЙ ОКРУГ        36000 - САМАРСКАЯ ОБЛАСТЬ  \n",
       "...                                    ...                              ...  \n",
       "997       01-ЦЕНТРАЛЬНЫЙ ФЕДЕРАЛЬНЫЙ ОКРУГ         70000 - ТУЛЬСКАЯ ОБЛАСТЬ  \n",
       "998   02-СЕВЕРО-ЗАПАДНЫЙ ФЕДЕРАЛЬНЫЙ ОКРУГ     49000 - НОВГОРОДСКАЯ ОБЛАСТЬ  \n",
       "999       01-ЦЕНТРАЛЬНЫЙ ФЕДЕРАЛЬНЫЙ ОКРУГ         70000 - ТУЛЬСКАЯ ОБЛАСТЬ  \n",
       "1000      01-ЦЕНТРАЛЬНЫЙ ФЕДЕРАЛЬНЫЙ ОКРУГ         70000 - ТУЛЬСКАЯ ОБЛАСТЬ  \n",
       "1001      01-ЦЕНТРАЛЬНЫЙ ФЕДЕРАЛЬНЫЙ ОКРУГ       24000 - ИВАНОВСКАЯ ОБЛАСТЬ  \n",
       "\n",
       "[1002 rows x 9 columns]"
      ]
     },
     "execution_count": 2,
     "metadata": {},
     "output_type": "execute_result"
    }
   ],
   "source": [
    "# загружаем и смотрим\n",
    "new_columns =[\"код\", 'страна экспорта/импорта', \"дата\", \"направление\", \"общая стоимость\", \"вес в кг\", \"Дэи\", \"федеральный округ\", \"место отгрузки\"]\n",
    "df_raw = pd.read_excel('meth.xlsx', sheet_name='Данные отчета', names = new_columns) \n",
    "# наименование столбцов на русском с пробелами и спецсимволами\n",
    "# parquet - формат данных\n",
    "# столбец \"код\" и \"дэи\" константа?\n",
    "df_raw"
   ]
  },
  {
   "cell_type": "code",
   "execution_count": 3,
   "id": "89d67e4d",
   "metadata": {},
   "outputs": [
    {
     "data": {
      "text/html": [
       "<div>\n",
       "<style scoped>\n",
       "    .dataframe tbody tr th:only-of-type {\n",
       "        vertical-align: middle;\n",
       "    }\n",
       "\n",
       "    .dataframe tbody tr th {\n",
       "        vertical-align: top;\n",
       "    }\n",
       "\n",
       "    .dataframe thead th {\n",
       "        text-align: right;\n",
       "    }\n",
       "</style>\n",
       "<table border=\"1\" class=\"dataframe\">\n",
       "  <thead>\n",
       "    <tr style=\"text-align: right;\">\n",
       "      <th></th>\n",
       "      <th>код</th>\n",
       "      <th>страна экспорта/импорта</th>\n",
       "      <th>дата</th>\n",
       "      <th>направление</th>\n",
       "      <th>общая стоимость</th>\n",
       "      <th>вес в кг</th>\n",
       "      <th>Дэи</th>\n",
       "      <th>федеральный округ</th>\n",
       "      <th>место отгрузки</th>\n",
       "    </tr>\n",
       "  </thead>\n",
       "  <tbody>\n",
       "    <tr>\n",
       "      <th>0</th>\n",
       "      <td>2905110000 - МЕТАНОЛ (СПИРТ МЕТИЛОВЫЙ)</td>\n",
       "      <td>FI - ФИНЛЯНДИЯ</td>\n",
       "      <td>12 2019</td>\n",
       "      <td>Экспорт</td>\n",
       "      <td>8697030.96</td>\n",
       "      <td>46476510.00</td>\n",
       "      <td>0.00</td>\n",
       "      <td>04-ПРИВОЛЖСКИЙ ФЕДЕРАЛЬНЫЙ ОКРУГ</td>\n",
       "      <td>57000 - ПЕРМСКИЙ КРАЙ</td>\n",
       "    </tr>\n",
       "    <tr>\n",
       "      <th>1</th>\n",
       "      <td>2905110000 - МЕТАНОЛ (СПИРТ МЕТИЛОВЫЙ)</td>\n",
       "      <td>FI - ФИНЛЯНДИЯ</td>\n",
       "      <td>12 2019</td>\n",
       "      <td>Экспорт</td>\n",
       "      <td>115771.02</td>\n",
       "      <td>499800.00</td>\n",
       "      <td>0.00</td>\n",
       "      <td>01-ЦЕНТРАЛЬНЫЙ ФЕДЕРАЛЬНЫЙ ОКРУГ</td>\n",
       "      <td>70000 - ТУЛЬСКАЯ ОБЛАСТЬ</td>\n",
       "    </tr>\n",
       "    <tr>\n",
       "      <th>2</th>\n",
       "      <td>2905110000 - МЕТАНОЛ (СПИРТ МЕТИЛОВЫЙ)</td>\n",
       "      <td>KG - КЫРГЫЗСТАН</td>\n",
       "      <td>08 2019</td>\n",
       "      <td>Экспорт</td>\n",
       "      <td>5934.20</td>\n",
       "      <td>17400.00</td>\n",
       "      <td>0.00</td>\n",
       "      <td>04-ПРИВОЛЖСКИЙ ФЕДЕРАЛЬНЫЙ ОКРУГ</td>\n",
       "      <td>22000 - НИЖЕГОРОДСКАЯ ОБЛАСТЬ</td>\n",
       "    </tr>\n",
       "    <tr>\n",
       "      <th>3</th>\n",
       "      <td>2905110000 - МЕТАНОЛ (СПИРТ МЕТИЛОВЫЙ)</td>\n",
       "      <td>KG - КЫРГЫЗСТАН</td>\n",
       "      <td>12 2019</td>\n",
       "      <td>Экспорт</td>\n",
       "      <td>7463.76</td>\n",
       "      <td>9055.00</td>\n",
       "      <td>0.00</td>\n",
       "      <td>04-ПРИВОЛЖСКИЙ ФЕДЕРАЛЬНЫЙ ОКРУГ</td>\n",
       "      <td>80000 - РЕСПУБЛИКА БАШКОРТОСТАН</td>\n",
       "    </tr>\n",
       "    <tr>\n",
       "      <th>4</th>\n",
       "      <td>2905110000 - МЕТАНОЛ (СПИРТ МЕТИЛОВЫЙ)</td>\n",
       "      <td>KZ - КАЗАХСТАН</td>\n",
       "      <td>01 2019</td>\n",
       "      <td>Экспорт</td>\n",
       "      <td>192077.78</td>\n",
       "      <td>472260.00</td>\n",
       "      <td>0.00</td>\n",
       "      <td>04-ПРИВОЛЖСКИЙ ФЕДЕРАЛЬНЫЙ ОКРУГ</td>\n",
       "      <td>36000 - САМАРСКАЯ ОБЛАСТЬ</td>\n",
       "    </tr>\n",
       "    <tr>\n",
       "      <th>...</th>\n",
       "      <td>...</td>\n",
       "      <td>...</td>\n",
       "      <td>...</td>\n",
       "      <td>...</td>\n",
       "      <td>...</td>\n",
       "      <td>...</td>\n",
       "      <td>...</td>\n",
       "      <td>...</td>\n",
       "      <td>...</td>\n",
       "    </tr>\n",
       "    <tr>\n",
       "      <th>997</th>\n",
       "      <td>2905110000 - МЕТАНОЛ (СПИРТ МЕТИЛОВЫЙ)</td>\n",
       "      <td>MD - МОЛДОВА, РЕСПУБЛИКА</td>\n",
       "      <td>01 2022</td>\n",
       "      <td>Экспорт</td>\n",
       "      <td>11088.48</td>\n",
       "      <td>21580.00</td>\n",
       "      <td>0.00</td>\n",
       "      <td>01-ЦЕНТРАЛЬНЫЙ ФЕДЕРАЛЬНЫЙ ОКРУГ</td>\n",
       "      <td>70000 - ТУЛЬСКАЯ ОБЛАСТЬ</td>\n",
       "    </tr>\n",
       "    <tr>\n",
       "      <th>998</th>\n",
       "      <td>2905110000 - МЕТАНОЛ (СПИРТ МЕТИЛОВЫЙ)</td>\n",
       "      <td>BY - БЕЛАРУСЬ</td>\n",
       "      <td>01 2022</td>\n",
       "      <td>Экспорт</td>\n",
       "      <td>763.13</td>\n",
       "      <td>310000.00</td>\n",
       "      <td>0.00</td>\n",
       "      <td>02-СЕВЕРО-ЗАПАДНЫЙ ФЕДЕРАЛЬНЫЙ ОКРУГ</td>\n",
       "      <td>49000 - НОВГОРОДСКАЯ ОБЛАСТЬ</td>\n",
       "    </tr>\n",
       "    <tr>\n",
       "      <th>999</th>\n",
       "      <td>2905110000 - МЕТАНОЛ (СПИРТ МЕТИЛОВЫЙ)</td>\n",
       "      <td>FI - ФИНЛЯНДИЯ</td>\n",
       "      <td>01 2022</td>\n",
       "      <td>Экспорт</td>\n",
       "      <td>8888381.00</td>\n",
       "      <td>24347900.00</td>\n",
       "      <td>0.00</td>\n",
       "      <td>01-ЦЕНТРАЛЬНЫЙ ФЕДЕРАЛЬНЫЙ ОКРУГ</td>\n",
       "      <td>70000 - ТУЛЬСКАЯ ОБЛАСТЬ</td>\n",
       "    </tr>\n",
       "    <tr>\n",
       "      <th>1000</th>\n",
       "      <td>2905110000 - МЕТАНОЛ (СПИРТ МЕТИЛОВЫЙ)</td>\n",
       "      <td>EE - ЭСТОНИЯ</td>\n",
       "      <td>01 2022</td>\n",
       "      <td>Экспорт</td>\n",
       "      <td>202532.89</td>\n",
       "      <td>520000.00</td>\n",
       "      <td>0.00</td>\n",
       "      <td>01-ЦЕНТРАЛЬНЫЙ ФЕДЕРАЛЬНЫЙ ОКРУГ</td>\n",
       "      <td>70000 - ТУЛЬСКАЯ ОБЛАСТЬ</td>\n",
       "    </tr>\n",
       "    <tr>\n",
       "      <th>1001</th>\n",
       "      <td>2905110000 - МЕТАНОЛ (СПИРТ МЕТИЛОВЫЙ)</td>\n",
       "      <td>CZ - ЧЕХИЯ</td>\n",
       "      <td>01 2022</td>\n",
       "      <td>Экспорт</td>\n",
       "      <td>624.43</td>\n",
       "      <td>960.00</td>\n",
       "      <td>0.00</td>\n",
       "      <td>01-ЦЕНТРАЛЬНЫЙ ФЕДЕРАЛЬНЫЙ ОКРУГ</td>\n",
       "      <td>24000 - ИВАНОВСКАЯ ОБЛАСТЬ</td>\n",
       "    </tr>\n",
       "  </tbody>\n",
       "</table>\n",
       "<p>1002 rows × 9 columns</p>\n",
       "</div>"
      ],
      "text/plain": [
       "                                         код   страна экспорта/импорта  \\\n",
       "0     2905110000 - МЕТАНОЛ (СПИРТ МЕТИЛОВЫЙ)            FI - ФИНЛЯНДИЯ   \n",
       "1     2905110000 - МЕТАНОЛ (СПИРТ МЕТИЛОВЫЙ)            FI - ФИНЛЯНДИЯ   \n",
       "2     2905110000 - МЕТАНОЛ (СПИРТ МЕТИЛОВЫЙ)           KG - КЫРГЫЗСТАН   \n",
       "3     2905110000 - МЕТАНОЛ (СПИРТ МЕТИЛОВЫЙ)           KG - КЫРГЫЗСТАН   \n",
       "4     2905110000 - МЕТАНОЛ (СПИРТ МЕТИЛОВЫЙ)            KZ - КАЗАХСТАН   \n",
       "...                                      ...                       ...   \n",
       "997   2905110000 - МЕТАНОЛ (СПИРТ МЕТИЛОВЫЙ)  MD - МОЛДОВА, РЕСПУБЛИКА   \n",
       "998   2905110000 - МЕТАНОЛ (СПИРТ МЕТИЛОВЫЙ)             BY - БЕЛАРУСЬ   \n",
       "999   2905110000 - МЕТАНОЛ (СПИРТ МЕТИЛОВЫЙ)            FI - ФИНЛЯНДИЯ   \n",
       "1000  2905110000 - МЕТАНОЛ (СПИРТ МЕТИЛОВЫЙ)              EE - ЭСТОНИЯ   \n",
       "1001  2905110000 - МЕТАНОЛ (СПИРТ МЕТИЛОВЫЙ)                CZ - ЧЕХИЯ   \n",
       "\n",
       "         дата направление  общая стоимость    вес в кг  Дэи  \\\n",
       "0     12 2019     Экспорт       8697030.96 46476510.00 0.00   \n",
       "1     12 2019     Экспорт        115771.02   499800.00 0.00   \n",
       "2     08 2019     Экспорт          5934.20    17400.00 0.00   \n",
       "3     12 2019     Экспорт          7463.76     9055.00 0.00   \n",
       "4     01 2019     Экспорт        192077.78   472260.00 0.00   \n",
       "...       ...         ...              ...         ...  ...   \n",
       "997   01 2022     Экспорт         11088.48    21580.00 0.00   \n",
       "998   01 2022     Экспорт           763.13   310000.00 0.00   \n",
       "999   01 2022     Экспорт       8888381.00 24347900.00 0.00   \n",
       "1000  01 2022     Экспорт        202532.89   520000.00 0.00   \n",
       "1001  01 2022     Экспорт           624.43      960.00 0.00   \n",
       "\n",
       "                         федеральный округ                   место отгрузки  \n",
       "0         04-ПРИВОЛЖСКИЙ ФЕДЕРАЛЬНЫЙ ОКРУГ            57000 - ПЕРМСКИЙ КРАЙ  \n",
       "1         01-ЦЕНТРАЛЬНЫЙ ФЕДЕРАЛЬНЫЙ ОКРУГ         70000 - ТУЛЬСКАЯ ОБЛАСТЬ  \n",
       "2         04-ПРИВОЛЖСКИЙ ФЕДЕРАЛЬНЫЙ ОКРУГ    22000 - НИЖЕГОРОДСКАЯ ОБЛАСТЬ  \n",
       "3         04-ПРИВОЛЖСКИЙ ФЕДЕРАЛЬНЫЙ ОКРУГ  80000 - РЕСПУБЛИКА БАШКОРТОСТАН  \n",
       "4         04-ПРИВОЛЖСКИЙ ФЕДЕРАЛЬНЫЙ ОКРУГ        36000 - САМАРСКАЯ ОБЛАСТЬ  \n",
       "...                                    ...                              ...  \n",
       "997       01-ЦЕНТРАЛЬНЫЙ ФЕДЕРАЛЬНЫЙ ОКРУГ         70000 - ТУЛЬСКАЯ ОБЛАСТЬ  \n",
       "998   02-СЕВЕРО-ЗАПАДНЫЙ ФЕДЕРАЛЬНЫЙ ОКРУГ     49000 - НОВГОРОДСКАЯ ОБЛАСТЬ  \n",
       "999       01-ЦЕНТРАЛЬНЫЙ ФЕДЕРАЛЬНЫЙ ОКРУГ         70000 - ТУЛЬСКАЯ ОБЛАСТЬ  \n",
       "1000      01-ЦЕНТРАЛЬНЫЙ ФЕДЕРАЛЬНЫЙ ОКРУГ         70000 - ТУЛЬСКАЯ ОБЛАСТЬ  \n",
       "1001      01-ЦЕНТРАЛЬНЫЙ ФЕДЕРАЛЬНЫЙ ОКРУГ       24000 - ИВАНОВСКАЯ ОБЛАСТЬ  \n",
       "\n",
       "[1002 rows x 9 columns]"
      ]
     },
     "execution_count": 3,
     "metadata": {},
     "output_type": "execute_result"
    }
   ],
   "source": [
    "df = pd.DataFrame(df_raw) # дубликат строки выше\n",
    "df"
   ]
  },
  {
   "cell_type": "code",
   "execution_count": 4,
   "id": "3403e217",
   "metadata": {},
   "outputs": [
    {
     "name": "stdout",
     "output_type": "stream",
     "text": [
      "<class 'pandas.core.frame.DataFrame'>\n",
      "RangeIndex: 1002 entries, 0 to 1001\n",
      "Data columns (total 9 columns):\n",
      " #   Column                   Non-Null Count  Dtype  \n",
      "---  ------                   --------------  -----  \n",
      " 0   код                      1002 non-null   object \n",
      " 1   страна экспорта/импорта  1002 non-null   object \n",
      " 2   дата                     1002 non-null   object \n",
      " 3   направление              1002 non-null   object \n",
      " 4   общая стоимость          1002 non-null   float64\n",
      " 5   вес в кг                 1002 non-null   float64\n",
      " 6   Дэи                      1002 non-null   float64\n",
      " 7   федеральный округ        1002 non-null   object \n",
      " 8   место отгрузки           1002 non-null   object \n",
      "dtypes: float64(3), object(6)\n",
      "memory usage: 70.6+ KB\n"
     ]
    }
   ],
   "source": [
    "df.info() # какие столбцы можно перевести в categorical? (не важно)"
   ]
  },
  {
   "cell_type": "code",
   "execution_count": 5,
   "id": "2de02548",
   "metadata": {},
   "outputs": [],
   "source": [
    "df[\"дата\"] = pd.to_datetime(df['дата'])"
   ]
  },
  {
   "cell_type": "code",
   "execution_count": 6,
   "id": "81614be9",
   "metadata": {},
   "outputs": [
    {
     "data": {
      "text/plain": [
       "код                        0\n",
       "страна экспорта/импорта    0\n",
       "дата                       0\n",
       "направление                0\n",
       "общая стоимость            0\n",
       "вес в кг                   0\n",
       "Дэи                        0\n",
       "федеральный округ          0\n",
       "место отгрузки             0\n",
       "dtype: int64"
      ]
     },
     "execution_count": 6,
     "metadata": {},
     "output_type": "execute_result"
    }
   ],
   "source": [
    "df.isnull().sum()"
   ]
  },
  {
   "cell_type": "code",
   "execution_count": 7,
   "id": "c02f2ede",
   "metadata": {},
   "outputs": [
    {
     "data": {
      "text/plain": [
       "<AxesSubplot:>"
      ]
     },
     "execution_count": 7,
     "metadata": {},
     "output_type": "execute_result"
    },
    {
     "data": {
      "image/png": "[encoded data removed]",
      "text/plain": [
       "<Figure size 432x288 with 1 Axes>"
      ]
     },
     "metadata": {
      "needs_background": "light"
     },
     "output_type": "display_data"
    }
   ],
   "source": [
    "# посмотрим на экспорт и импорт\n",
    "df['направление'].value_counts().plot(kind = \"bar\") # counts vs volume\n",
    "# импорт из определенных регионов?"
   ]
  },
  {
   "cell_type": "code",
   "execution_count": 8,
   "id": "565e36b1",
   "metadata": {},
   "outputs": [
    {
     "data": {
      "text/plain": [
       "направление\n",
       "Импорт       3982215.41\n",
       "Экспорт   1613888358.37\n",
       "Name: общая стоимость, dtype: float64"
      ]
     },
     "execution_count": 8,
     "metadata": {},
     "output_type": "execute_result"
    }
   ],
   "source": [
    "df.groupby(['направление'])['общая стоимость'].sum()"
   ]
  },
  {
   "cell_type": "code",
   "execution_count": 10,
   "id": "75fa7492",
   "metadata": {},
   "outputs": [
    {
     "data": {
      "text/plain": [
       "<AxesSubplot:xlabel='дата'>"
      ]
     },
     "execution_count": 10,
     "metadata": {},
     "output_type": "execute_result"
    },
    {
     "data": {
      "image/png": "[encoded data removed]",
      "text/plain": [
       "<Figure size 432x288 with 1 Axes>"
      ]
     },
     "metadata": {
      "needs_background": "light"
     },
     "output_type": "display_data"
    }
   ],
   "source": [
    "df_ = df[df['страна экспорта/импорта']=='KZ - КАЗАХСТАН']\n",
    "df_[[\"дата\", 'общая стоимость']].set_index(\"дата\").plot()"
   ]
  },
  {
   "cell_type": "code",
   "execution_count": 8,
   "id": "80638984",
   "metadata": {},
   "outputs": [
    {
     "data": {
      "text/plain": [
       "<AxesSubplot:>"
      ]
     },
     "execution_count": 8,
     "metadata": {},
     "output_type": "execute_result"
    },
    {
     "data": {
      "image/png": "[encoded data removed]",
      "text/plain": [
       "<Figure size 432x288 with 1 Axes>"
      ]
     },
     "metadata": {
      "needs_background": "light"
     },
     "output_type": "display_data"
    }
   ],
   "source": [
    "# посмотрим по направлениям отгрузки\n",
    "df['страна экспорта/импорта'].value_counts().plot(kind = \"bar\") \n",
    "# counts vs volume \n",
    "# распределение/стабильность во времени (по месячно)\n",
    "# новые направления"
   ]
  },
  {
   "cell_type": "code",
   "execution_count": 9,
   "id": "7c6432e0",
   "metadata": {},
   "outputs": [
    {
     "data": {
      "text/plain": [
       "код                           1\n",
       "страна экспорта/импорта      31\n",
       "дата                         37\n",
       "направление                   2\n",
       "общая стоимость            1001\n",
       "вес в кг                    980\n",
       "Дэи                           2\n",
       "федеральный округ             7\n",
       "место отгрузки               19\n",
       "dtype: int64"
      ]
     },
     "execution_count": 9,
     "metadata": {},
     "output_type": "execute_result"
    }
   ],
   "source": [
    "df.nunique(axis= 0)"
   ]
  },
  {
   "cell_type": "code",
   "execution_count": 22,
   "id": "15a1178c",
   "metadata": {},
   "outputs": [
    {
     "data": {
      "text/plain": [
       "<AxesSubplot:xlabel='общая стоимость'>"
      ]
     },
     "execution_count": 22,
     "metadata": {},
     "output_type": "execute_result"
    },
    {
     "data": {
      "image/png": "[encoded data removed]",
      "text/plain": [
       "<Figure size 432x288 with 1 Axes>"
      ]
     },
     "metadata": {
      "needs_background": "light"
     },
     "output_type": "display_data"
    }
   ],
   "source": [
    "# посмотрим разброс значений\n",
    "sns.boxplot(x = df['общая стоимость']) # pep8 \n",
    "# distplot для такого типа данных более наглядный\n",
    "# качество данных - могут ли быть стоимость или объем меньше 0 или больше 10^10"
   ]
  },
  {
   "cell_type": "code",
   "execution_count": 11,
   "id": "50998ea1",
   "metadata": {},
   "outputs": [
    {
     "data": {
      "text/plain": [
       "<AxesSubplot:ylabel='Density'>"
      ]
     },
     "execution_count": 11,
     "metadata": {},
     "output_type": "execute_result"
    },
    {
     "data": {
      "image/png": "[encoded data removed]",
      "text/plain": [
       "<Figure size 432x288 with 1 Axes>"
      ]
     },
     "metadata": {
      "needs_background": "light"
     },
     "output_type": "display_data"
    }
   ],
   "source": [
    "sns.distplot(x = df['общая стоимость']) # pep8 "
   ]
  },
  {
   "cell_type": "code",
   "execution_count": 16,
   "id": "1a5ed8f4",
   "metadata": {},
   "outputs": [
    {
     "data": {
      "text/plain": [
       "<AxesSubplot:ylabel='Density'>"
      ]
     },
     "execution_count": 16,
     "metadata": {},
     "output_type": "execute_result"
    },
    {
     "data": {
      "image/png": "[encoded data removed]",
      "text/plain": [
       "<Figure size 432x288 with 1 Axes>"
      ]
     },
     "metadata": {
      "needs_background": "light"
     },
     "output_type": "display_data"
    }
   ],
   "source": [
    "df['price'] = df['общая стоимость'] / df['вес в кг'] # не хвататает показателя\n",
    "sns.distplot(x = df[df['price']< 5]['price'])"
   ]
  },
  {
   "cell_type": "code",
   "execution_count": 11,
   "id": "31bed89f",
   "metadata": {},
   "outputs": [
    {
     "data": {
      "text/plain": [
       "<AxesSubplot:xlabel='вес в кг'>"
      ]
     },
     "execution_count": 11,
     "metadata": {},
     "output_type": "execute_result"
    },
    {
     "data": {
      "image/png": "[encoded data removed]",
      "text/plain": [
       "<Figure size 432x288 with 1 Axes>"
      ]
     },
     "metadata": {
      "needs_background": "light"
     },
     "output_type": "display_data"
    }
   ],
   "source": [
    "sns.boxplot(x=df['вес в кг'])"
   ]
  },
  {
   "cell_type": "code",
   "execution_count": 12,
   "id": "074ef5ba",
   "metadata": {},
   "outputs": [],
   "source": [
    "# видно что по весу есть несколько выбросов, удалим их\n",
    "# убирается - .05 <  & > .95 \n",
    "df_clean = df[~(df['вес в кг'] >= df['вес в кг'].max())] \n",
    "# удалит только df['вес в кг'].max()\n",
    "\n",
    "# могут ли быть какие-то специфические направления где перевозят очень тяжелые или очень дорогие грузы - построить распределение \n",
    "# по странам, регионам и пр"
   ]
  },
  {
   "cell_type": "code",
   "execution_count": 13,
   "id": "2ff9a235",
   "metadata": {},
   "outputs": [
    {
     "data": {
      "text/plain": [
       "<AxesSubplot:xlabel='вес в кг'>"
      ]
     },
     "execution_count": 13,
     "metadata": {},
     "output_type": "execute_result"
    },
    {
     "data": {
      "image/png": "[encoded data removed]",
      "text/plain": [
       "<Figure size 432x288 with 1 Axes>"
      ]
     },
     "metadata": {
      "needs_background": "light"
     },
     "output_type": "display_data"
    }
   ],
   "source": [
    "sns.boxplot(x=df_clean['вес в кг'])"
   ]
  },
  {
   "cell_type": "code",
   "execution_count": 14,
   "id": "5a648766",
   "metadata": {},
   "outputs": [
    {
     "name": "stdout",
     "output_type": "stream",
     "text": [
      "до очистки: 1002\n",
      "после очистки: 1001\n",
      "удалено строк: 1.\n",
      "процент удаленных: 0.10%\n"
     ]
    }
   ],
   "source": [
    "print(f'до очистки: {df.shape[0]}')\n",
    "print(f'после очистки: {df_clean.shape[0]}')\n",
    "print(f'удалено строк: {df.shape[0] - df_clean.shape[0]}.')\n",
    "print(f'процент удаленных: {((df.shape[0] - df_clean.shape[0]) * 100) / df.shape[0]:.2f}%')"
   ]
  },
  {
   "cell_type": "code",
   "execution_count": 17,
   "id": "8d5f039f",
   "metadata": {},
   "outputs": [],
   "source": [
    "df.to_parquet('file.parquet') # backup"
   ]
  },
  {
   "cell_type": "code",
   "execution_count": null,
   "id": "e3cd8786",
   "metadata": {},
   "outputs": [],
   "source": []
  },
  {
   "cell_type": "code",
   "execution_count": 15,
   "id": "c23fd3be",
   "metadata": {},
   "outputs": [
    {
     "data": {
      "text/html": [
       "<div>\n",
       "<style scoped>\n",
       "    .dataframe tbody tr th:only-of-type {\n",
       "        vertical-align: middle;\n",
       "    }\n",
       "\n",
       "    .dataframe tbody tr th {\n",
       "        vertical-align: top;\n",
       "    }\n",
       "\n",
       "    .dataframe thead th {\n",
       "        text-align: right;\n",
       "    }\n",
       "</style>\n",
       "<table border=\"1\" class=\"dataframe\">\n",
       "  <thead>\n",
       "    <tr style=\"text-align: right;\">\n",
       "      <th></th>\n",
       "      <th>код</th>\n",
       "      <th>страна экспорта/импорта</th>\n",
       "      <th>дата</th>\n",
       "      <th>направление</th>\n",
       "      <th>общая стоимость</th>\n",
       "      <th>вес в кг</th>\n",
       "      <th>Дэи</th>\n",
       "      <th>федеральный округ</th>\n",
       "      <th>место отгрузки</th>\n",
       "    </tr>\n",
       "  </thead>\n",
       "  <tbody>\n",
       "    <tr>\n",
       "      <th>0</th>\n",
       "      <td>2905110000 - МЕТАНОЛ (СПИРТ МЕТИЛОВЫЙ)</td>\n",
       "      <td>FI - ФИНЛЯНДИЯ</td>\n",
       "      <td>2019-12-01</td>\n",
       "      <td>Экспорт</td>\n",
       "      <td>8697030.96</td>\n",
       "      <td>46476510.00</td>\n",
       "      <td>0.00</td>\n",
       "      <td>04-ПРИВОЛЖСКИЙ ФЕДЕРАЛЬНЫЙ ОКРУГ</td>\n",
       "      <td>57000 - ПЕРМСКИЙ КРАЙ</td>\n",
       "    </tr>\n",
       "    <tr>\n",
       "      <th>1</th>\n",
       "      <td>2905110000 - МЕТАНОЛ (СПИРТ МЕТИЛОВЫЙ)</td>\n",
       "      <td>FI - ФИНЛЯНДИЯ</td>\n",
       "      <td>2019-12-01</td>\n",
       "      <td>Экспорт</td>\n",
       "      <td>115771.02</td>\n",
       "      <td>499800.00</td>\n",
       "      <td>0.00</td>\n",
       "      <td>01-ЦЕНТРАЛЬНЫЙ ФЕДЕРАЛЬНЫЙ ОКРУГ</td>\n",
       "      <td>70000 - ТУЛЬСКАЯ ОБЛАСТЬ</td>\n",
       "    </tr>\n",
       "    <tr>\n",
       "      <th>2</th>\n",
       "      <td>2905110000 - МЕТАНОЛ (СПИРТ МЕТИЛОВЫЙ)</td>\n",
       "      <td>KG - КЫРГЫЗСТАН</td>\n",
       "      <td>2019-08-01</td>\n",
       "      <td>Экспорт</td>\n",
       "      <td>5934.20</td>\n",
       "      <td>17400.00</td>\n",
       "      <td>0.00</td>\n",
       "      <td>04-ПРИВОЛЖСКИЙ ФЕДЕРАЛЬНЫЙ ОКРУГ</td>\n",
       "      <td>22000 - НИЖЕГОРОДСКАЯ ОБЛАСТЬ</td>\n",
       "    </tr>\n",
       "    <tr>\n",
       "      <th>3</th>\n",
       "      <td>2905110000 - МЕТАНОЛ (СПИРТ МЕТИЛОВЫЙ)</td>\n",
       "      <td>KG - КЫРГЫЗСТАН</td>\n",
       "      <td>2019-12-01</td>\n",
       "      <td>Экспорт</td>\n",
       "      <td>7463.76</td>\n",
       "      <td>9055.00</td>\n",
       "      <td>0.00</td>\n",
       "      <td>04-ПРИВОЛЖСКИЙ ФЕДЕРАЛЬНЫЙ ОКРУГ</td>\n",
       "      <td>80000 - РЕСПУБЛИКА БАШКОРТОСТАН</td>\n",
       "    </tr>\n",
       "    <tr>\n",
       "      <th>4</th>\n",
       "      <td>2905110000 - МЕТАНОЛ (СПИРТ МЕТИЛОВЫЙ)</td>\n",
       "      <td>KZ - КАЗАХСТАН</td>\n",
       "      <td>2019-01-01</td>\n",
       "      <td>Экспорт</td>\n",
       "      <td>192077.78</td>\n",
       "      <td>472260.00</td>\n",
       "      <td>0.00</td>\n",
       "      <td>04-ПРИВОЛЖСКИЙ ФЕДЕРАЛЬНЫЙ ОКРУГ</td>\n",
       "      <td>36000 - САМАРСКАЯ ОБЛАСТЬ</td>\n",
       "    </tr>\n",
       "  </tbody>\n",
       "</table>\n",
       "</div>"
      ],
      "text/plain": [
       "                                      код страна экспорта/импорта       дата  \\\n",
       "0  2905110000 - МЕТАНОЛ (СПИРТ МЕТИЛОВЫЙ)          FI - ФИНЛЯНДИЯ 2019-12-01   \n",
       "1  2905110000 - МЕТАНОЛ (СПИРТ МЕТИЛОВЫЙ)          FI - ФИНЛЯНДИЯ 2019-12-01   \n",
       "2  2905110000 - МЕТАНОЛ (СПИРТ МЕТИЛОВЫЙ)         KG - КЫРГЫЗСТАН 2019-08-01   \n",
       "3  2905110000 - МЕТАНОЛ (СПИРТ МЕТИЛОВЫЙ)         KG - КЫРГЫЗСТАН 2019-12-01   \n",
       "4  2905110000 - МЕТАНОЛ (СПИРТ МЕТИЛОВЫЙ)          KZ - КАЗАХСТАН 2019-01-01   \n",
       "\n",
       "  направление  общая стоимость    вес в кг  Дэи  \\\n",
       "0     Экспорт       8697030.96 46476510.00 0.00   \n",
       "1     Экспорт        115771.02   499800.00 0.00   \n",
       "2     Экспорт          5934.20    17400.00 0.00   \n",
       "3     Экспорт          7463.76     9055.00 0.00   \n",
       "4     Экспорт        192077.78   472260.00 0.00   \n",
       "\n",
       "                  федеральный округ                   место отгрузки  \n",
       "0  04-ПРИВОЛЖСКИЙ ФЕДЕРАЛЬНЫЙ ОКРУГ            57000 - ПЕРМСКИЙ КРАЙ  \n",
       "1  01-ЦЕНТРАЛЬНЫЙ ФЕДЕРАЛЬНЫЙ ОКРУГ         70000 - ТУЛЬСКАЯ ОБЛАСТЬ  \n",
       "2  04-ПРИВОЛЖСКИЙ ФЕДЕРАЛЬНЫЙ ОКРУГ    22000 - НИЖЕГОРОДСКАЯ ОБЛАСТЬ  \n",
       "3  04-ПРИВОЛЖСКИЙ ФЕДЕРАЛЬНЫЙ ОКРУГ  80000 - РЕСПУБЛИКА БАШКОРТОСТАН  \n",
       "4  04-ПРИВОЛЖСКИЙ ФЕДЕРАЛЬНЫЙ ОКРУГ        36000 - САМАРСКАЯ ОБЛАСТЬ  "
      ]
     },
     "execution_count": 15,
     "metadata": {},
     "output_type": "execute_result"
    }
   ],
   "source": [
    "# посмотрим еще раз на данные\n",
    "df_ml = df_clean.copy() # зачем копия?\n",
    "df_ml.head()"
   ]
  },
  {
   "cell_type": "code",
   "execution_count": 40,
   "id": "333bf23b",
   "metadata": {},
   "outputs": [
    {
     "name": "stdout",
     "output_type": "stream",
     "text": [
      "[[4.73422647e-01 6.10682490e-01]\n",
      " [6.30188387e-03 6.56716915e-03]\n",
      " [3.22918134e-04 2.28628811e-04]\n",
      " ...\n",
      " [4.83838784e-01 3.19921530e-01]\n",
      " [1.10247650e-02 6.83258895e-03]\n",
      " [3.38808795e-05 1.26138792e-05]]\n"
     ]
    }
   ],
   "source": [
    "# для машинного обучения обучение лучше работает на данных в сопоставимых маштабах, попробуем маштабировать данные через min-max для признаков \"общая стоимость и вес\"\n",
    "# тема актуальна для линейной регрессии с регуляризациями\n",
    "scaler = MinMaxScaler()\n",
    "data = df_ml[[\"общая стоимость\", \"вес в кг\", 'направление', 'место отгрузки']] # fix\n",
    "scaled = scaler.fit_transform(data[[\"общая стоимость\", \"вес в кг\"]]) # fix \n",
    "print(scaled)"
   ]
  },
  {
   "cell_type": "code",
   "execution_count": 30,
   "id": "7f41e5b5",
   "metadata": {},
   "outputs": [],
   "source": [
    "# создадим функцию для обработки признаков по выбору\n",
    "def transform_data(num_at, cat_at, dataframe): # typing\n",
    "    \"\"\"Passes the input df through the \"\"\"\n",
    "    pipeline = ColumnTransformer([\n",
    "        ('num', MinMaxScaler(), num_at),\n",
    "        ('cat', OneHotEncoder(handle_unknown='ignore'), cat_at), #ignore errors because dataset is huge and might encounter new categories\n",
    "    ])\n",
    "    return pipeline.fit_transform(dataframe), pipeline\n",
    "\n",
    "# функция по выводу результатов\n",
    "def display_scores(scores):\n",
    "    print(f\"Scores:{np.round(scores/100000, decimals=2)}\")\n",
    "    print(f\"Scores:{to_millions(scores.mean()):.2f}\")\n",
    "    print(f\"Standard deviation: {scores.std()/1000000:.2f}\")\n",
    "                    \n",
    "def to_millions(usd):\n",
    "    return round(usd/1000000, 2)"
   ]
  },
  {
   "cell_type": "code",
   "execution_count": 31,
   "id": "91f7d690",
   "metadata": {},
   "outputs": [],
   "source": [
    "# разбиваем датасет на для обучения\n",
    "train_set, test_set = train_test_split(data, test_size=0.3, random_state = 42) # нигде далее не используется\n",
    "\n",
    "# функиця для выбора столбцов и подготовка данных для этапов обучения\n",
    "\n",
    "def prepare_data(dataset, chosen_column, df_num_attribs, df_cat_attribs, test=False): # chosen_column, df_num_attribs - NONE\n",
    "    \n",
    "    df_input = dataset.drop(chosen_column, axis=1) # внутрь if\n",
    "    df_output = dataset[chosen_column].copy() \n",
    "\n",
    "    \n",
    "    if not test:\n",
    "        df_prepared, pipeline = transform_data(df_num_attribs, df_cat_attribs, df_input)\n",
    "        return df_prepared, df_output, pipeline\n",
    "    else: # ?\n",
    "        return df_input, df_output"
   ]
  },
  {
   "cell_type": "code",
   "execution_count": 44,
   "id": "90b9d775",
   "metadata": {},
   "outputs": [],
   "source": [
    "# подготовим данные для регресии, используя ранее подготовленные функции\n",
    "df_prepared, df_output, pipeline = prepare_data(data,\n",
    "                          ['общая стоимость'], # fix - list\n",
    "                          ['вес в кг'], # fix - list\n",
    "                          ['направление', 'место отгрузки'])"
   ]
  },
  {
   "cell_type": "code",
   "execution_count": 35,
   "id": "5f293195",
   "metadata": {},
   "outputs": [
    {
     "data": {
      "text/plain": [
       "LinearRegression()"
      ]
     },
     "execution_count": 35,
     "metadata": {},
     "output_type": "execute_result"
    }
   ],
   "source": [
    "# линейная регрессия\n",
    "lin_reg = LinearRegression()\n",
    "lin_reg.fit(df_prepared, df_output) # остутсвует смещение таргета во времени"
   ]
  },
  {
   "cell_type": "code",
   "execution_count": 38,
   "id": "89bcaf71",
   "metadata": {},
   "outputs": [
    {
     "name": "stdout",
     "output_type": "stream",
     "text": [
      "R2:0.886\n",
      "RMSE:0.95\n"
     ]
    }
   ],
   "source": [
    "# метрики\n",
    "df_predictions = lin_reg.predict(df_prepared) # предсказали на том же на чем и обучились\n",
    "lin_mse = mean_squared_error(df_output, df_predictions)\n",
    "lin_rmse = np.sqrt(lin_mse)\n",
    "print(f'R2:{r2_score(df_output, df_predictions):.3f}') # v\n",
    "print(f'RMSE:{to_millions(lin_rmse)}')\n",
    "# MAPE\n",
    "# MAE\n",
    "# бизнес метрика???\n",
    "# коэффициенты"
   ]
  },
  {
   "cell_type": "code",
   "execution_count": 42,
   "id": "62789383",
   "metadata": {},
   "outputs": [
    {
     "name": "stdout",
     "output_type": "stream",
     "text": [
      "R2: 0.885\n",
      "RMSE: 0.92\n"
     ]
    }
   ],
   "source": [
    "# тестовая выборка\n",
    "X_test, y_test = prepare_data(test_set, \"общая стоимость\",'вес в кг',\n",
    "                          ['направление', 'место отгрузки'], True) \n",
    "X_test_prepared = pipeline.transform(X_test) \n",
    "final_predictions = lin_reg.predict(X_test_prepared) # тестовая выборка уже была в обучении\n",
    "lin_mse = mean_squared_error(y_test, final_predictions)\n",
    "lin_rmse = np.sqrt(lin_mse)\n",
    "print(f'R2: {r2_score(y_test, final_predictions):.3f}')\n",
    "print(f'RMSE: {to_millions(lin_rmse)}')"
   ]
  },
  {
   "cell_type": "code",
   "execution_count": null,
   "id": "3725acc5",
   "metadata": {},
   "outputs": [],
   "source": [
    "-1 - настроить vscode для разработки, почитать про PEP8 и использовать его при кодинга\n",
    "0 - создать в гите веку develop и main\n",
    "2 - папка notebooks для экспериментов, src - для итоговых скриптов\n",
    "3 - оформить скрипт в виде .py выгрузку данных\n",
    "\n",
    "4 - разбить ноутбук на логические блоки\n",
    "3 - анализ данных должен помогать делать какие-то выводы и влиять на подготовку данных, должна быть временная перспектива\n",
    "4 - что именно мы хотим предсказать, смещение таргета\n",
    "4 - начать легче с деревянной модели, можно на посемпле на одном типе перевозки\n",
    "5 - отдедьная функция по анализу качества \n",
    "6 - трэйн\\тест для обучения, валидация по времени !!!"
   ]
  }
 ],
 "metadata": {
  "kernelspec": {
   "display_name": "pgk_env",
   "language": "python",
   "name": "pgk_env"
  },
  "language_info": {
   "codemirror_mode": {
    "name": "ipython",
    "version": 3
   },
   "file_extension": ".py",
   "mimetype": "text/x-python",
   "name": "python",
   "nbconvert_exporter": "python",
   "pygments_lexer": "ipython3",
   "version": "3.9.6"
  }
 },
 "nbformat": 4,
 "nbformat_minor": 5
}
